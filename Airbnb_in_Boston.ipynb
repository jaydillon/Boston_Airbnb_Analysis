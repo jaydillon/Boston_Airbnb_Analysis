{
 "cells": [
  {
   "cell_type": "markdown",
   "metadata": {},
   "source": [
    "## Introduction\n",
    "\n",
    "This notebook is used to explore Boston Airbnb open data posted on https://www.kaggle.com/airbnb/boston, and try to use these data to answer some questions below:\n",
    "\n",
    "- What is individual cost of renting Airbnb in different areas in Boston?\n",
    "- How does # of bedrooms affect price?\n",
    "- What relates to listing pricing?\n",
    "\n",
    "We are using Listings data source provided"
   ]
  },
  {
   "cell_type": "markdown",
   "metadata": {},
   "source": [
    "## Induct data and browse it"
   ]
  },
  {
   "cell_type": "code",
   "execution_count": 1,
   "metadata": {
    "scrolled": true
   },
   "outputs": [
    {
     "data": {
      "text/html": [
       "<div>\n",
       "<style scoped>\n",
       "    .dataframe tbody tr th:only-of-type {\n",
       "        vertical-align: middle;\n",
       "    }\n",
       "\n",
       "    .dataframe tbody tr th {\n",
       "        vertical-align: top;\n",
       "    }\n",
       "\n",
       "    .dataframe thead th {\n",
       "        text-align: right;\n",
       "    }\n",
       "</style>\n",
       "<table border=\"1\" class=\"dataframe\">\n",
       "  <thead>\n",
       "    <tr style=\"text-align: right;\">\n",
       "      <th></th>\n",
       "      <th>id</th>\n",
       "      <th>listing_url</th>\n",
       "      <th>scrape_id</th>\n",
       "      <th>last_scraped</th>\n",
       "      <th>name</th>\n",
       "      <th>summary</th>\n",
       "      <th>space</th>\n",
       "      <th>description</th>\n",
       "      <th>experiences_offered</th>\n",
       "      <th>neighborhood_overview</th>\n",
       "      <th>...</th>\n",
       "      <th>review_scores_value</th>\n",
       "      <th>requires_license</th>\n",
       "      <th>license</th>\n",
       "      <th>jurisdiction_names</th>\n",
       "      <th>instant_bookable</th>\n",
       "      <th>cancellation_policy</th>\n",
       "      <th>require_guest_profile_picture</th>\n",
       "      <th>require_guest_phone_verification</th>\n",
       "      <th>calculated_host_listings_count</th>\n",
       "      <th>reviews_per_month</th>\n",
       "    </tr>\n",
       "  </thead>\n",
       "  <tbody>\n",
       "    <tr>\n",
       "      <th>0</th>\n",
       "      <td>12147973</td>\n",
       "      <td>https://www.airbnb.com/rooms/12147973</td>\n",
       "      <td>20160906204935</td>\n",
       "      <td>2016-09-07</td>\n",
       "      <td>Sunny Bungalow in the City</td>\n",
       "      <td>Cozy, sunny, family home.  Master bedroom high...</td>\n",
       "      <td>The house has an open and cozy feel at the sam...</td>\n",
       "      <td>Cozy, sunny, family home.  Master bedroom high...</td>\n",
       "      <td>none</td>\n",
       "      <td>Roslindale is quiet, convenient and friendly. ...</td>\n",
       "      <td>...</td>\n",
       "      <td>NaN</td>\n",
       "      <td>f</td>\n",
       "      <td>NaN</td>\n",
       "      <td>NaN</td>\n",
       "      <td>f</td>\n",
       "      <td>moderate</td>\n",
       "      <td>f</td>\n",
       "      <td>f</td>\n",
       "      <td>1</td>\n",
       "      <td>NaN</td>\n",
       "    </tr>\n",
       "    <tr>\n",
       "      <th>1</th>\n",
       "      <td>3075044</td>\n",
       "      <td>https://www.airbnb.com/rooms/3075044</td>\n",
       "      <td>20160906204935</td>\n",
       "      <td>2016-09-07</td>\n",
       "      <td>Charming room in pet friendly apt</td>\n",
       "      <td>Charming and quiet room in a second floor 1910...</td>\n",
       "      <td>Small but cozy and quite room with a full size...</td>\n",
       "      <td>Charming and quiet room in a second floor 1910...</td>\n",
       "      <td>none</td>\n",
       "      <td>The room is in Roslindale, a diverse and prima...</td>\n",
       "      <td>...</td>\n",
       "      <td>9.0</td>\n",
       "      <td>f</td>\n",
       "      <td>NaN</td>\n",
       "      <td>NaN</td>\n",
       "      <td>t</td>\n",
       "      <td>moderate</td>\n",
       "      <td>f</td>\n",
       "      <td>f</td>\n",
       "      <td>1</td>\n",
       "      <td>1.30</td>\n",
       "    </tr>\n",
       "    <tr>\n",
       "      <th>2</th>\n",
       "      <td>6976</td>\n",
       "      <td>https://www.airbnb.com/rooms/6976</td>\n",
       "      <td>20160906204935</td>\n",
       "      <td>2016-09-07</td>\n",
       "      <td>Mexican Folk Art Haven in Boston</td>\n",
       "      <td>Come stay with a friendly, middle-aged guy in ...</td>\n",
       "      <td>Come stay with a friendly, middle-aged guy in ...</td>\n",
       "      <td>Come stay with a friendly, middle-aged guy in ...</td>\n",
       "      <td>none</td>\n",
       "      <td>The LOCATION: Roslindale is a safe and diverse...</td>\n",
       "      <td>...</td>\n",
       "      <td>10.0</td>\n",
       "      <td>f</td>\n",
       "      <td>NaN</td>\n",
       "      <td>NaN</td>\n",
       "      <td>f</td>\n",
       "      <td>moderate</td>\n",
       "      <td>t</td>\n",
       "      <td>f</td>\n",
       "      <td>1</td>\n",
       "      <td>0.47</td>\n",
       "    </tr>\n",
       "    <tr>\n",
       "      <th>3</th>\n",
       "      <td>1436513</td>\n",
       "      <td>https://www.airbnb.com/rooms/1436513</td>\n",
       "      <td>20160906204935</td>\n",
       "      <td>2016-09-07</td>\n",
       "      <td>Spacious Sunny Bedroom Suite in Historic Home</td>\n",
       "      <td>Come experience the comforts of home away from...</td>\n",
       "      <td>Most places you find in Boston are small howev...</td>\n",
       "      <td>Come experience the comforts of home away from...</td>\n",
       "      <td>none</td>\n",
       "      <td>Roslindale is a lovely little neighborhood loc...</td>\n",
       "      <td>...</td>\n",
       "      <td>10.0</td>\n",
       "      <td>f</td>\n",
       "      <td>NaN</td>\n",
       "      <td>NaN</td>\n",
       "      <td>f</td>\n",
       "      <td>moderate</td>\n",
       "      <td>f</td>\n",
       "      <td>f</td>\n",
       "      <td>1</td>\n",
       "      <td>1.00</td>\n",
       "    </tr>\n",
       "    <tr>\n",
       "      <th>4</th>\n",
       "      <td>7651065</td>\n",
       "      <td>https://www.airbnb.com/rooms/7651065</td>\n",
       "      <td>20160906204935</td>\n",
       "      <td>2016-09-07</td>\n",
       "      <td>Come Home to Boston</td>\n",
       "      <td>My comfy, clean and relaxing home is one block...</td>\n",
       "      <td>Clean, attractive, private room, one block fro...</td>\n",
       "      <td>My comfy, clean and relaxing home is one block...</td>\n",
       "      <td>none</td>\n",
       "      <td>I love the proximity to downtown, the neighbor...</td>\n",
       "      <td>...</td>\n",
       "      <td>10.0</td>\n",
       "      <td>f</td>\n",
       "      <td>NaN</td>\n",
       "      <td>NaN</td>\n",
       "      <td>f</td>\n",
       "      <td>flexible</td>\n",
       "      <td>f</td>\n",
       "      <td>f</td>\n",
       "      <td>1</td>\n",
       "      <td>2.25</td>\n",
       "    </tr>\n",
       "  </tbody>\n",
       "</table>\n",
       "<p>5 rows × 95 columns</p>\n",
       "</div>"
      ],
      "text/plain": [
       "         id                            listing_url       scrape_id  \\\n",
       "0  12147973  https://www.airbnb.com/rooms/12147973  20160906204935   \n",
       "1   3075044   https://www.airbnb.com/rooms/3075044  20160906204935   \n",
       "2      6976      https://www.airbnb.com/rooms/6976  20160906204935   \n",
       "3   1436513   https://www.airbnb.com/rooms/1436513  20160906204935   \n",
       "4   7651065   https://www.airbnb.com/rooms/7651065  20160906204935   \n",
       "\n",
       "  last_scraped                                           name  \\\n",
       "0   2016-09-07                     Sunny Bungalow in the City   \n",
       "1   2016-09-07              Charming room in pet friendly apt   \n",
       "2   2016-09-07               Mexican Folk Art Haven in Boston   \n",
       "3   2016-09-07  Spacious Sunny Bedroom Suite in Historic Home   \n",
       "4   2016-09-07                            Come Home to Boston   \n",
       "\n",
       "                                             summary  \\\n",
       "0  Cozy, sunny, family home.  Master bedroom high...   \n",
       "1  Charming and quiet room in a second floor 1910...   \n",
       "2  Come stay with a friendly, middle-aged guy in ...   \n",
       "3  Come experience the comforts of home away from...   \n",
       "4  My comfy, clean and relaxing home is one block...   \n",
       "\n",
       "                                               space  \\\n",
       "0  The house has an open and cozy feel at the sam...   \n",
       "1  Small but cozy and quite room with a full size...   \n",
       "2  Come stay with a friendly, middle-aged guy in ...   \n",
       "3  Most places you find in Boston are small howev...   \n",
       "4  Clean, attractive, private room, one block fro...   \n",
       "\n",
       "                                         description experiences_offered  \\\n",
       "0  Cozy, sunny, family home.  Master bedroom high...                none   \n",
       "1  Charming and quiet room in a second floor 1910...                none   \n",
       "2  Come stay with a friendly, middle-aged guy in ...                none   \n",
       "3  Come experience the comforts of home away from...                none   \n",
       "4  My comfy, clean and relaxing home is one block...                none   \n",
       "\n",
       "                               neighborhood_overview  ... review_scores_value  \\\n",
       "0  Roslindale is quiet, convenient and friendly. ...  ...                 NaN   \n",
       "1  The room is in Roslindale, a diverse and prima...  ...                 9.0   \n",
       "2  The LOCATION: Roslindale is a safe and diverse...  ...                10.0   \n",
       "3  Roslindale is a lovely little neighborhood loc...  ...                10.0   \n",
       "4  I love the proximity to downtown, the neighbor...  ...                10.0   \n",
       "\n",
       "  requires_license license jurisdiction_names instant_bookable  \\\n",
       "0                f     NaN                NaN                f   \n",
       "1                f     NaN                NaN                t   \n",
       "2                f     NaN                NaN                f   \n",
       "3                f     NaN                NaN                f   \n",
       "4                f     NaN                NaN                f   \n",
       "\n",
       "  cancellation_policy require_guest_profile_picture  \\\n",
       "0            moderate                             f   \n",
       "1            moderate                             f   \n",
       "2            moderate                             t   \n",
       "3            moderate                             f   \n",
       "4            flexible                             f   \n",
       "\n",
       "  require_guest_phone_verification calculated_host_listings_count  \\\n",
       "0                                f                              1   \n",
       "1                                f                              1   \n",
       "2                                f                              1   \n",
       "3                                f                              1   \n",
       "4                                f                              1   \n",
       "\n",
       "   reviews_per_month  \n",
       "0                NaN  \n",
       "1               1.30  \n",
       "2               0.47  \n",
       "3               1.00  \n",
       "4               2.25  \n",
       "\n",
       "[5 rows x 95 columns]"
      ]
     },
     "execution_count": 1,
     "metadata": {},
     "output_type": "execute_result"
    }
   ],
   "source": [
    "# import basic packages and look at the data\n",
    "import pandas as pd\n",
    "import numpy as np\n",
    "import matplotlib.pyplot as plt\n",
    "import seaborn as sns\n",
    "from sklearn.linear_model import LinearRegression\n",
    "from sklearn.model_selection import train_test_split\n",
    "from sklearn.metrics import r2_score, mean_squared_error\n",
    "\n",
    "listings_df = pd.read_csv('./data/listings.csv')\n",
    "listings_df.head()"
   ]
  },
  {
   "cell_type": "code",
   "execution_count": 2,
   "metadata": {},
   "outputs": [
    {
     "data": {
      "text/plain": [
       "Index(['id', 'listing_url', 'scrape_id', 'last_scraped', 'name', 'summary',\n",
       "       'space', 'description', 'experiences_offered', 'neighborhood_overview',\n",
       "       'notes', 'transit', 'access', 'interaction', 'house_rules',\n",
       "       'thumbnail_url', 'medium_url', 'picture_url', 'xl_picture_url',\n",
       "       'host_id', 'host_url', 'host_name', 'host_since', 'host_location',\n",
       "       'host_about', 'host_response_time', 'host_response_rate',\n",
       "       'host_acceptance_rate', 'host_is_superhost', 'host_thumbnail_url',\n",
       "       'host_picture_url', 'host_neighbourhood', 'host_listings_count',\n",
       "       'host_total_listings_count', 'host_verifications',\n",
       "       'host_has_profile_pic', 'host_identity_verified', 'street',\n",
       "       'neighbourhood', 'neighbourhood_cleansed',\n",
       "       'neighbourhood_group_cleansed', 'city', 'state', 'zipcode', 'market',\n",
       "       'smart_location', 'country_code', 'country', 'latitude', 'longitude',\n",
       "       'is_location_exact', 'property_type', 'room_type', 'accommodates',\n",
       "       'bathrooms', 'bedrooms', 'beds', 'bed_type', 'amenities', 'square_feet',\n",
       "       'price', 'weekly_price', 'monthly_price', 'security_deposit',\n",
       "       'cleaning_fee', 'guests_included', 'extra_people', 'minimum_nights',\n",
       "       'maximum_nights', 'calendar_updated', 'has_availability',\n",
       "       'availability_30', 'availability_60', 'availability_90',\n",
       "       'availability_365', 'calendar_last_scraped', 'number_of_reviews',\n",
       "       'first_review', 'last_review', 'review_scores_rating',\n",
       "       'review_scores_accuracy', 'review_scores_cleanliness',\n",
       "       'review_scores_checkin', 'review_scores_communication',\n",
       "       'review_scores_location', 'review_scores_value', 'requires_license',\n",
       "       'license', 'jurisdiction_names', 'instant_bookable',\n",
       "       'cancellation_policy', 'require_guest_profile_picture',\n",
       "       'require_guest_phone_verification', 'calculated_host_listings_count',\n",
       "       'reviews_per_month'],\n",
       "      dtype='object')"
      ]
     },
     "execution_count": 2,
     "metadata": {},
     "output_type": "execute_result"
    }
   ],
   "source": [
    "# First, we can look at columns in listings.csv\n",
    "listings_df.columns"
   ]
  },
  {
   "cell_type": "code",
   "execution_count": 3,
   "metadata": {},
   "outputs": [
    {
     "data": {
      "text/plain": [
       "accommodates              100.00%\n",
       "bathrooms                  99.61%\n",
       "bedrooms                   99.72%\n",
       "beds                       99.75%\n",
       "guests_included           100.00%\n",
       "extra_people              100.00%\n",
       "cleaning_fee               69.12%\n",
       "minimum_nights            100.00%\n",
       "maximum_nights            100.00%\n",
       "price                     100.00%\n",
       "neighbourhood_cleansed    100.00%\n",
       "property_type              99.92%\n",
       "room_type                 100.00%\n",
       "bed_type                  100.00%\n",
       "dtype: object"
      ]
     },
     "execution_count": 3,
     "metadata": {},
     "output_type": "execute_result"
    }
   ],
   "source": [
    "# Select some columns for analysis and check missing values in all columns\n",
    "def percentage(numerator, denomenator):\n",
    "    '''\n",
    "    This function can be used to calculate percentage of non-NaN value of all columns\n",
    "    \n",
    "    INPUT: \n",
    "    numerator - Pandas Series or a number\n",
    "    denomenator - row count (shape) of Pandas dataframe\n",
    "    \n",
    "    OUTPUT:\n",
    "    Pandas Series of percentage of non-NaN value\n",
    "    '''\n",
    "    if type(numerator) == pd.core.series.Series:\n",
    "        return(numerator/denomenator*100).map('{:.2f}%'.format)\n",
    "    elif type(numerator) == int or type(numerator) == float:\n",
    "        return '{.2f%}'.format(float(numerator)/float(denomerator) * 100)\n",
    "    else:\n",
    "        print('check type')\n",
    "        \n",
    "select_df = listings_df.copy()[['accommodates', \n",
    "             'bathrooms', \n",
    "             'bedrooms', \n",
    "             'beds', \n",
    "             'guests_included',\n",
    "             'extra_people',\n",
    "             'cleaning_fee',\n",
    "             'minimum_nights',\n",
    "             'maximum_nights',\n",
    "             'price',\n",
    "             'neighbourhood_cleansed',\n",
    "             'property_type',\n",
    "             'room_type',\n",
    "             'bed_type']]\n",
    "\n",
    "percentage(select_df.count(), select_df.shape[0])"
   ]
  },
  {
   "cell_type": "code",
   "execution_count": 4,
   "metadata": {},
   "outputs": [
    {
     "data": {
      "text/plain": [
       "accommodates                int64\n",
       "bathrooms                 float64\n",
       "bedrooms                  float64\n",
       "beds                      float64\n",
       "guests_included             int64\n",
       "extra_people               object\n",
       "cleaning_fee               object\n",
       "minimum_nights              int64\n",
       "maximum_nights              int64\n",
       "price                      object\n",
       "neighbourhood_cleansed     object\n",
       "property_type              object\n",
       "room_type                  object\n",
       "bed_type                   object\n",
       "dtype: object"
      ]
     },
     "execution_count": 4,
     "metadata": {},
     "output_type": "execute_result"
    }
   ],
   "source": [
    "# Now we know there are some missing values in 5 columns\n",
    "# Let's look at types of selected columns\n",
    "select_df.dtypes"
   ]
  },
  {
   "cell_type": "code",
   "execution_count": 5,
   "metadata": {},
   "outputs": [
    {
     "data": {
      "text/html": [
       "<div>\n",
       "<style scoped>\n",
       "    .dataframe tbody tr th:only-of-type {\n",
       "        vertical-align: middle;\n",
       "    }\n",
       "\n",
       "    .dataframe tbody tr th {\n",
       "        vertical-align: top;\n",
       "    }\n",
       "\n",
       "    .dataframe thead th {\n",
       "        text-align: right;\n",
       "    }\n",
       "</style>\n",
       "<table border=\"1\" class=\"dataframe\">\n",
       "  <thead>\n",
       "    <tr style=\"text-align: right;\">\n",
       "      <th></th>\n",
       "      <th>accommodates</th>\n",
       "      <th>bathrooms</th>\n",
       "      <th>bedrooms</th>\n",
       "      <th>beds</th>\n",
       "      <th>guests_included</th>\n",
       "      <th>extra_people</th>\n",
       "      <th>cleaning_fee</th>\n",
       "      <th>minimum_nights</th>\n",
       "      <th>maximum_nights</th>\n",
       "      <th>price</th>\n",
       "      <th>neighbourhood_cleansed</th>\n",
       "      <th>property_type</th>\n",
       "      <th>room_type</th>\n",
       "      <th>bed_type</th>\n",
       "    </tr>\n",
       "  </thead>\n",
       "  <tbody>\n",
       "    <tr>\n",
       "      <th>0</th>\n",
       "      <td>4</td>\n",
       "      <td>1.5</td>\n",
       "      <td>2.0</td>\n",
       "      <td>3.0</td>\n",
       "      <td>1</td>\n",
       "      <td>$0.00</td>\n",
       "      <td>$35.00</td>\n",
       "      <td>2</td>\n",
       "      <td>1125</td>\n",
       "      <td>$250.00</td>\n",
       "      <td>Roslindale</td>\n",
       "      <td>House</td>\n",
       "      <td>Entire home/apt</td>\n",
       "      <td>Real Bed</td>\n",
       "    </tr>\n",
       "    <tr>\n",
       "      <th>1</th>\n",
       "      <td>2</td>\n",
       "      <td>1.0</td>\n",
       "      <td>1.0</td>\n",
       "      <td>1.0</td>\n",
       "      <td>0</td>\n",
       "      <td>$0.00</td>\n",
       "      <td>$10.00</td>\n",
       "      <td>2</td>\n",
       "      <td>15</td>\n",
       "      <td>$65.00</td>\n",
       "      <td>Roslindale</td>\n",
       "      <td>Apartment</td>\n",
       "      <td>Private room</td>\n",
       "      <td>Real Bed</td>\n",
       "    </tr>\n",
       "    <tr>\n",
       "      <th>2</th>\n",
       "      <td>2</td>\n",
       "      <td>1.0</td>\n",
       "      <td>1.0</td>\n",
       "      <td>1.0</td>\n",
       "      <td>1</td>\n",
       "      <td>$20.00</td>\n",
       "      <td>NaN</td>\n",
       "      <td>3</td>\n",
       "      <td>45</td>\n",
       "      <td>$65.00</td>\n",
       "      <td>Roslindale</td>\n",
       "      <td>Apartment</td>\n",
       "      <td>Private room</td>\n",
       "      <td>Real Bed</td>\n",
       "    </tr>\n",
       "    <tr>\n",
       "      <th>3</th>\n",
       "      <td>4</td>\n",
       "      <td>1.0</td>\n",
       "      <td>1.0</td>\n",
       "      <td>2.0</td>\n",
       "      <td>2</td>\n",
       "      <td>$25.00</td>\n",
       "      <td>$50.00</td>\n",
       "      <td>1</td>\n",
       "      <td>1125</td>\n",
       "      <td>$75.00</td>\n",
       "      <td>Roslindale</td>\n",
       "      <td>House</td>\n",
       "      <td>Private room</td>\n",
       "      <td>Real Bed</td>\n",
       "    </tr>\n",
       "    <tr>\n",
       "      <th>4</th>\n",
       "      <td>2</td>\n",
       "      <td>1.5</td>\n",
       "      <td>1.0</td>\n",
       "      <td>2.0</td>\n",
       "      <td>1</td>\n",
       "      <td>$0.00</td>\n",
       "      <td>$15.00</td>\n",
       "      <td>2</td>\n",
       "      <td>31</td>\n",
       "      <td>$79.00</td>\n",
       "      <td>Roslindale</td>\n",
       "      <td>House</td>\n",
       "      <td>Private room</td>\n",
       "      <td>Real Bed</td>\n",
       "    </tr>\n",
       "  </tbody>\n",
       "</table>\n",
       "</div>"
      ],
      "text/plain": [
       "   accommodates  bathrooms  bedrooms  beds  guests_included extra_people  \\\n",
       "0             4        1.5       2.0   3.0                1        $0.00   \n",
       "1             2        1.0       1.0   1.0                0        $0.00   \n",
       "2             2        1.0       1.0   1.0                1       $20.00   \n",
       "3             4        1.0       1.0   2.0                2       $25.00   \n",
       "4             2        1.5       1.0   2.0                1        $0.00   \n",
       "\n",
       "  cleaning_fee  minimum_nights  maximum_nights    price  \\\n",
       "0       $35.00               2            1125  $250.00   \n",
       "1       $10.00               2              15   $65.00   \n",
       "2          NaN               3              45   $65.00   \n",
       "3       $50.00               1            1125   $75.00   \n",
       "4       $15.00               2              31   $79.00   \n",
       "\n",
       "  neighbourhood_cleansed property_type        room_type  bed_type  \n",
       "0             Roslindale         House  Entire home/apt  Real Bed  \n",
       "1             Roslindale     Apartment     Private room  Real Bed  \n",
       "2             Roslindale     Apartment     Private room  Real Bed  \n",
       "3             Roslindale         House     Private room  Real Bed  \n",
       "4             Roslindale         House     Private room  Real Bed  "
      ]
     },
     "execution_count": 5,
     "metadata": {},
     "output_type": "execute_result"
    }
   ],
   "source": [
    "# extra_people, cleaning_fee and price are not numerical type, we need to take a look at them\n",
    "select_df.head()"
   ]
  },
  {
   "cell_type": "markdown",
   "metadata": {},
   "source": [
    "Findings:\n",
    "- extra_people, cleaning_fee and price are not numerical type, we need to take a look at them\n",
    "- host_id should be string type, rather than numerical type\n",
    "- neighbourhood_cleansed can be used to identify areas\n",
    "\n",
    "Now, we can curate the data and analyze it to answer questions."
   ]
  },
  {
   "cell_type": "markdown",
   "metadata": {},
   "source": [
    "## Q1: What is individual cost of renting Airbnb in different areas in Boston?\n",
    "To answer this question, we need to clean 'price', and calculate average price on individual and area level.\n",
    "\n",
    "### Clean the data"
   ]
  },
  {
   "cell_type": "code",
   "execution_count": 6,
   "metadata": {},
   "outputs": [
    {
     "data": {
      "text/plain": [
       "<matplotlib.axes._subplots.AxesSubplot at 0x7fd7605452d0>"
      ]
     },
     "execution_count": 6,
     "metadata": {},
     "output_type": "execute_result"
    },
    {
     "data": {
      "image/png": "[encoded data removed]",
      "text/plain": [
       "<Figure size 432x288 with 1 Axes>"
      ]
     },
     "metadata": {
      "needs_background": "light"
     },
     "output_type": "display_data"
    }
   ],
   "source": [
    "# Look at price first, which is the most important variable we are looking at         \n",
    "select_df['price'] = select_df['price'].apply(lambda x: x.split('$')[1].replace(',', ''))\n",
    "select_df['price'] = select_df['price'].astype(float)\n",
    "\n",
    "select_df['price'].hist(bins=50)"
   ]
  },
  {
   "cell_type": "markdown",
   "metadata": {},
   "source": [
    "It looks like there most prices are in range of $0 - $1,000, to avoid bias from extreme case, we may limit the range to below $1,000."
   ]
  },
  {
   "cell_type": "code",
   "execution_count": 7,
   "metadata": {},
   "outputs": [
    {
     "data": {
      "text/plain": [
       "<matplotlib.axes._subplots.AxesSubplot at 0x7fd76071afd0>"
      ]
     },
     "execution_count": 7,
     "metadata": {},
     "output_type": "execute_result"
    },
    {
     "data": {
      "image/png": "[encoded data removed]",
      "text/plain": [
       "<Figure size 432x288 with 1 Axes>"
      ]
     },
     "metadata": {
      "needs_background": "light"
     },
     "output_type": "display_data"
    }
   ],
   "source": [
    "select_df = select_df[(select_df['price']<1000) & (select_df['price']>1)]\n",
    "select_df['price'].hist(bins=50)"
   ]
  },
  {
   "cell_type": "markdown",
   "metadata": {},
   "source": [
    "Now we need to calculate individual average cost and aggregage data to area level ('neighbourhood_cleansed')"
   ]
  },
  {
   "cell_type": "code",
   "execution_count": 8,
   "metadata": {},
   "outputs": [
    {
     "name": "stdout",
     "output_type": "stream",
     "text": [
      "                         count  avg_price_per_accommodates\n",
      "neighbourhood_cleansed                                    \n",
      "Allston                    260                   45.933274\n",
      "Back Bay                   301                   79.841825\n",
      "Bay Village                 24                   74.270833\n",
      "Beacon Hill                192                   83.697421\n",
      "Brighton                   185                   52.308632\n",
      "Charlestown                110                   67.513009\n",
      "Chinatown                   71                   67.488732\n",
      "Dorchester                 269                   40.306717\n",
      "Downtown                   172                   76.290628\n",
      "East Boston                150                   45.133741\n",
      "Fenway                     287                   73.821673\n",
      "Hyde Park                   31                   38.725806\n",
      "Jamaica Plain              343                   44.936324\n",
      "Leather District             5                   92.550000\n",
      "Longwood Medical Area        9                   54.935185\n",
      "Mattapan                    24                   35.189236\n",
      "Mission Hill               124                   55.966801\n",
      "North End                  143                   65.366181\n",
      "Roslindale                  56                   39.938871\n",
      "Roxbury                    143                   47.324492\n",
      "South Boston               173                   61.917540\n",
      "South Boston Waterfront     81                   75.312757\n",
      "South End                  325                   77.947278\n",
      "West End                    49                   61.656803\n",
      "West Roxbury                46                   40.925423\n"
     ]
    }
   ],
   "source": [
    "# Then we need to group all listings by neighbourhood, each having count of listings and average price\n",
    "select_df['price_per_accommodates'] = select_df['price']/select_df['accommodates']\n",
    "df1 = select_df.groupby(['neighbourhood_cleansed']) \\\n",
    "                        .agg(count=('price', 'size'), avg_price_per_accommodates=('price_per_accommodates', 'mean'))\n",
    "print(df1)"
   ]
  },
  {
   "cell_type": "markdown",
   "metadata": {},
   "source": [
    "Now we have the count of listings and average individual price by neighbourhood areas. It would be good to plot them in to bar chart to get quick idea.\n",
    "\n",
    "### Visualization"
   ]
  },
  {
   "cell_type": "code",
   "execution_count": 9,
   "metadata": {},
   "outputs": [
    {
     "data": {
      "text/plain": [
       "<matplotlib.axes._subplots.AxesSubplot at 0x7fd7604b7ed0>"
      ]
     },
     "execution_count": 9,
     "metadata": {},
     "output_type": "execute_result"
    },
    {
     "data": {
      "image/png": "[encoded data removed]",
      "text/plain": [
       "<Figure size 720x864 with 1 Axes>"
      ]
     },
     "metadata": {
      "needs_background": "light"
     },
     "output_type": "display_data"
    }
   ],
   "source": [
    "# Visualize using bar chart\n",
    "df1.sort_values(by='count', ascending=True).plot(kind='barh', figsize=(10,12))"
   ]
  },
  {
   "cell_type": "markdown",
   "metadata": {},
   "source": [
    "### Analysis\n",
    "We can clearly see that there are more Airbnb listings around Jamaica Plain than others with comparably low individual's cost, while in Leather District, average individual expense is nearly $100 and available options are very limited."
   ]
  },
  {
   "cell_type": "markdown",
   "metadata": {},
   "source": [
    "## Q2: How does # of bedrooms affect price?\n",
    "To answer this question, we need to add # of bedrooms into consideration, and find the correlation between bedrooms count and average listing price per neighbourhood area\n",
    "\n",
    "### Prepare the data"
   ]
  },
  {
   "cell_type": "code",
   "execution_count": 10,
   "metadata": {},
   "outputs": [
    {
     "data": {
      "text/html": [
       "<div>\n",
       "<style scoped>\n",
       "    .dataframe tbody tr th:only-of-type {\n",
       "        vertical-align: middle;\n",
       "    }\n",
       "\n",
       "    .dataframe tbody tr th {\n",
       "        vertical-align: top;\n",
       "    }\n",
       "\n",
       "    .dataframe thead th {\n",
       "        text-align: right;\n",
       "    }\n",
       "</style>\n",
       "<table border=\"1\" class=\"dataframe\">\n",
       "  <thead>\n",
       "    <tr style=\"text-align: right;\">\n",
       "      <th></th>\n",
       "      <th>neighbourhood_cleansed</th>\n",
       "      <th>bedrooms</th>\n",
       "      <th>price</th>\n",
       "    </tr>\n",
       "  </thead>\n",
       "  <tbody>\n",
       "    <tr>\n",
       "      <th>0</th>\n",
       "      <td>Roslindale</td>\n",
       "      <td>2.0</td>\n",
       "      <td>250.0</td>\n",
       "    </tr>\n",
       "    <tr>\n",
       "      <th>1</th>\n",
       "      <td>Roslindale</td>\n",
       "      <td>1.0</td>\n",
       "      <td>65.0</td>\n",
       "    </tr>\n",
       "    <tr>\n",
       "      <th>2</th>\n",
       "      <td>Roslindale</td>\n",
       "      <td>1.0</td>\n",
       "      <td>65.0</td>\n",
       "    </tr>\n",
       "    <tr>\n",
       "      <th>3</th>\n",
       "      <td>Roslindale</td>\n",
       "      <td>1.0</td>\n",
       "      <td>75.0</td>\n",
       "    </tr>\n",
       "    <tr>\n",
       "      <th>4</th>\n",
       "      <td>Roslindale</td>\n",
       "      <td>1.0</td>\n",
       "      <td>79.0</td>\n",
       "    </tr>\n",
       "  </tbody>\n",
       "</table>\n",
       "</div>"
      ],
      "text/plain": [
       "  neighbourhood_cleansed  bedrooms  price\n",
       "0             Roslindale       2.0  250.0\n",
       "1             Roslindale       1.0   65.0\n",
       "2             Roslindale       1.0   65.0\n",
       "3             Roslindale       1.0   75.0\n",
       "4             Roslindale       1.0   79.0"
      ]
     },
     "execution_count": 10,
     "metadata": {},
     "output_type": "execute_result"
    }
   ],
   "source": [
    "# Get related columns\n",
    "df2 = select_df.copy()[['neighbourhood_cleansed',\n",
    "                     'bedrooms',\n",
    "                     'price']]\n",
    "df2.head()"
   ]
  },
  {
   "cell_type": "markdown",
   "metadata": {},
   "source": [
    "### Visualization\n",
    "Plot this simple dataframe into heatmap would be good to see their relationship"
   ]
  },
  {
   "cell_type": "code",
   "execution_count": 11,
   "metadata": {},
   "outputs": [
    {
     "data": {
      "text/plain": [
       "<matplotlib.axes._subplots.AxesSubplot at 0x7fd760ad0e10>"
      ]
     },
     "execution_count": 11,
     "metadata": {},
     "output_type": "execute_result"
    },
    {
     "data": {
      "image/png": "[encoded data removed]",
      "text/plain": [
       "<Figure size 720x720 with 2 Axes>"
      ]
     },
     "metadata": {
      "needs_background": "light"
     },
     "output_type": "display_data"
    }
   ],
   "source": [
    "plt.figure(figsize=(10, 10))\n",
    "sns.heatmap(df2.groupby(['neighbourhood_cleansed','bedrooms']).price.mean().unstack(), annot=True, fmt='.0f')"
   ]
  },
  {
   "cell_type": "markdown",
   "metadata": {},
   "source": [
    "### Analysis\n",
    "We can also see Leather District, Longwood Medical Area and Mattapan don't have large house or apartment with more than 2 bedroom, so they may only fit for small group."
   ]
  },
  {
   "cell_type": "markdown",
   "metadata": {},
   "source": [
    "## Q3: What relates to listing pricing?\n",
    "This is a big question that need to involve all the columns we selected and build regression model to analyze correlations across variables.\n",
    "\n",
    "Therefore, we need to clean the entire selected dataframe to prepare raw data for modeling.\n",
    "\n",
    "### Prepare the data"
   ]
  },
  {
   "cell_type": "code",
   "execution_count": 12,
   "metadata": {},
   "outputs": [],
   "source": [
    "# Clean the orignial data\n",
    "def clean_data(df):\n",
    "    '''\n",
    "    INPUT:\n",
    "    df - original pandas DataFrame\n",
    "    \n",
    "    OUTPUT:\n",
    "    X - matrix holding all variables we need to use to predict price \n",
    "    y - the corresponding price vector\n",
    "    '''\n",
    "    \n",
    "    # select columns for further analysis, including numerical and categorical\n",
    "    raw_df = df.copy()[['accommodates', \n",
    "                 'bathrooms', \n",
    "                 'bedrooms', \n",
    "                 'beds', \n",
    "                 'guests_included',\n",
    "                 'extra_people',\n",
    "                 'cleaning_fee',\n",
    "                 'minimum_nights',\n",
    "                 'maximum_nights',\n",
    "                 'price',\n",
    "                 'neighbourhood_cleansed',\n",
    "                 'property_type',\n",
    "                 'room_type',\n",
    "                 'bed_type']]\n",
    "    \n",
    "    # drop missing price rows, if any         \n",
    "    raw_df['price'] = raw_df['price'].apply(lambda x: x.split('$')[1].replace(',', ''))\n",
    "    raw_df['price'] = raw_df['price'].astype(float)\n",
    "    raw_df = raw_df[(raw_df['price']<1000) & (raw_df['price']>1)]\n",
    "    y = raw_df['price']\n",
    " \n",
    "    # fill missing values in columns with different methods\n",
    "    fill_zero_cols = ['bathrooms', 'bedrooms', 'beds']\n",
    "    for col in fill_zero_cols:\n",
    "        raw_df[col].fillna(0, inplace=True)\n",
    "        \n",
    "    # convert other currency strings to float type\n",
    "    raw_df['extra_people'] = raw_df['extra_people'].apply(lambda x: x.split('$')[1].replace(',', ''))\n",
    "    raw_df['extra_people'] = raw_df['extra_people'].astype(float)\n",
    "    \n",
    "    raw_df['cleaning_fee'].fillna('$0.00', inplace=True)\n",
    "    raw_df['cleaning_fee'] = raw_df['cleaning_fee'].apply(lambda x: x.split('$')[1].replace(',', ''))\n",
    "    raw_df['cleaning_fee'] = raw_df['cleaning_fee'].astype(float)\n",
    "    \n",
    "    X = raw_df.drop(['price'], axis=1)\n",
    "    \n",
    "    # dummy the categorical variables\n",
    "    cat_vars = X.select_dtypes(include=['object']).copy().columns\n",
    "    for var in cat_vars:\n",
    "        X = pd.concat([X.drop(var, axis=1), \n",
    "                           pd.get_dummies(X[var], \n",
    "                                          prefix=var, \n",
    "                                          prefix_sep='_', \n",
    "                                          drop_first=True)], \n",
    "                           axis=1)\n",
    "\n",
    "\n",
    "    return raw_df, X, y\n",
    "    \n",
    "raw_df, X, y = clean_data(listings_df) "
   ]
  },
  {
   "cell_type": "code",
   "execution_count": 13,
   "metadata": {},
   "outputs": [
    {
     "data": {
      "text/plain": [
       "accommodates              100.00%\n",
       "bathrooms                 100.00%\n",
       "bedrooms                  100.00%\n",
       "beds                      100.00%\n",
       "guests_included           100.00%\n",
       "extra_people              100.00%\n",
       "cleaning_fee              100.00%\n",
       "minimum_nights            100.00%\n",
       "maximum_nights            100.00%\n",
       "price                     100.00%\n",
       "neighbourhood_cleansed    100.00%\n",
       "property_type              99.92%\n",
       "room_type                 100.00%\n",
       "bed_type                  100.00%\n",
       "dtype: object"
      ]
     },
     "execution_count": 13,
     "metadata": {},
     "output_type": "execute_result"
    }
   ],
   "source": [
    "percentage(raw_df.count(), raw_df.shape[0])"
   ]
  },
  {
   "cell_type": "markdown",
   "metadata": {},
   "source": [
    "### Visualization\n",
    "Look at all numerical variables and see their distribution"
   ]
  },
  {
   "cell_type": "code",
   "execution_count": 14,
   "metadata": {},
   "outputs": [
    {
     "data": {
      "text/plain": [
       "array([[<matplotlib.axes._subplots.AxesSubplot object at 0x7fd760d87110>,\n",
       "        <matplotlib.axes._subplots.AxesSubplot object at 0x7fd760e9cc10>,\n",
       "        <matplotlib.axes._subplots.AxesSubplot object at 0x7fd760eef890>],\n",
       "       [<matplotlib.axes._subplots.AxesSubplot object at 0x7fd7596f9bd0>,\n",
       "        <matplotlib.axes._subplots.AxesSubplot object at 0x7fd75972b890>,\n",
       "        <matplotlib.axes._subplots.AxesSubplot object at 0x7fd75e8d3c10>],\n",
       "       [<matplotlib.axes._subplots.AxesSubplot object at 0x7fd75e9088d0>,\n",
       "        <matplotlib.axes._subplots.AxesSubplot object at 0x7fd75e948110>,\n",
       "        <matplotlib.axes._subplots.AxesSubplot object at 0x7fd75e948c50>],\n",
       "       [<matplotlib.axes._subplots.AxesSubplot object at 0x7fd75e989610>,\n",
       "        <matplotlib.axes._subplots.AxesSubplot object at 0x7fd75eff6950>,\n",
       "        <matplotlib.axes._subplots.AxesSubplot object at 0x7fd75f032cd0>]],\n",
       "      dtype=object)"
      ]
     },
     "execution_count": 14,
     "metadata": {},
     "output_type": "execute_result"
    },
    {
     "data": {
      "image/png": "[encoded data removed]",
      "text/plain": [
       "<Figure size 1440x1440 with 12 Axes>"
      ]
     },
     "metadata": {
      "needs_background": "light"
     },
     "output_type": "display_data"
    }
   ],
   "source": [
    "raw_df.hist(figsize=(20,20))"
   ]
  },
  {
   "cell_type": "markdown",
   "metadata": {},
   "source": [
    "### Modeling with LinearRegression"
   ]
  },
  {
   "cell_type": "code",
   "execution_count": 15,
   "metadata": {},
   "outputs": [
    {
     "data": {
      "text/plain": [
       "LinearRegression(copy_X=True, fit_intercept=True, n_jobs=None, normalize=True)"
      ]
     },
     "execution_count": 15,
     "metadata": {},
     "output_type": "execute_result"
    }
   ],
   "source": [
    "X_train, X_test, y_train, y_test = train_test_split(X, y, test_size=.2, random_state=42)\n",
    "lm_model = LinearRegression(normalize=True)\n",
    "lm_model.fit(X_train, y_train)"
   ]
  },
  {
   "cell_type": "code",
   "execution_count": 16,
   "metadata": {},
   "outputs": [
    {
     "name": "stdout",
     "output_type": "stream",
     "text": [
      "The r-squared score for model on train set was 0.5843296496798192 on 2858 values.\n",
      "The r-squared score for model on test set was 0.478813781871792 on 715 values.\n"
     ]
    }
   ],
   "source": [
    "# Look at R-squared score for the model\n",
    "\n",
    "y_train_preds = lm_model.predict(X_train)\n",
    "train_r2_score = r2_score(y_train, y_train_preds)\n",
    "y_test_preds = lm_model.predict(X_test)\n",
    "test_r2_score = r2_score(y_test, y_test_preds)\n",
    "\n",
    "print(\"The r-squared score for model on train set was {} on {} values.\".format(train_r2_score, len(y_train)))\n",
    "print(\"The r-squared score for model on test set was {} on {} values.\".format(test_r2_score, len(y_test)))"
   ]
  },
  {
   "cell_type": "markdown",
   "metadata": {},
   "source": [
    "The R-squared score shows that 58% of the variance can be explained by our model in train set, and 48% of the variance can be explained in test set."
   ]
  },
  {
   "cell_type": "markdown",
   "metadata": {},
   "source": [
    "### Coefficients\n",
    "Let's now look at the coefficients and see how do they effect the model."
   ]
  },
  {
   "cell_type": "code",
   "execution_count": 17,
   "metadata": {},
   "outputs": [
    {
     "data": {
      "text/html": [
       "<div>\n",
       "<style scoped>\n",
       "    .dataframe tbody tr th:only-of-type {\n",
       "        vertical-align: middle;\n",
       "    }\n",
       "\n",
       "    .dataframe tbody tr th {\n",
       "        vertical-align: top;\n",
       "    }\n",
       "\n",
       "    .dataframe thead th {\n",
       "        text-align: right;\n",
       "    }\n",
       "</style>\n",
       "<table border=\"1\" class=\"dataframe\">\n",
       "  <thead>\n",
       "    <tr style=\"text-align: right;\">\n",
       "      <th></th>\n",
       "      <th>est_int</th>\n",
       "      <th>coefs</th>\n",
       "      <th>abs_coefs</th>\n",
       "    </tr>\n",
       "  </thead>\n",
       "  <tbody>\n",
       "    <tr>\n",
       "      <th>10</th>\n",
       "      <td>neighbourhood_cleansed_Bay Village</td>\n",
       "      <td>107.967419</td>\n",
       "      <td>107.967419</td>\n",
       "    </tr>\n",
       "    <tr>\n",
       "      <th>21</th>\n",
       "      <td>neighbourhood_cleansed_Leather District</td>\n",
       "      <td>105.445176</td>\n",
       "      <td>105.445176</td>\n",
       "    </tr>\n",
       "    <tr>\n",
       "      <th>29</th>\n",
       "      <td>neighbourhood_cleansed_South Boston Waterfront</td>\n",
       "      <td>102.844649</td>\n",
       "      <td>102.844649</td>\n",
       "    </tr>\n",
       "    <tr>\n",
       "      <th>9</th>\n",
       "      <td>neighbourhood_cleansed_Back Bay</td>\n",
       "      <td>98.050798</td>\n",
       "      <td>98.050798</td>\n",
       "    </tr>\n",
       "    <tr>\n",
       "      <th>16</th>\n",
       "      <td>neighbourhood_cleansed_Downtown</td>\n",
       "      <td>84.805251</td>\n",
       "      <td>84.805251</td>\n",
       "    </tr>\n",
       "    <tr>\n",
       "      <th>11</th>\n",
       "      <td>neighbourhood_cleansed_Beacon Hill</td>\n",
       "      <td>81.684115</td>\n",
       "      <td>81.684115</td>\n",
       "    </tr>\n",
       "    <tr>\n",
       "      <th>14</th>\n",
       "      <td>neighbourhood_cleansed_Chinatown</td>\n",
       "      <td>72.548987</td>\n",
       "      <td>72.548987</td>\n",
       "    </tr>\n",
       "    <tr>\n",
       "      <th>30</th>\n",
       "      <td>neighbourhood_cleansed_South End</td>\n",
       "      <td>70.386963</td>\n",
       "      <td>70.386963</td>\n",
       "    </tr>\n",
       "    <tr>\n",
       "      <th>46</th>\n",
       "      <td>room_type_Shared room</td>\n",
       "      <td>-67.437883</td>\n",
       "      <td>67.437883</td>\n",
       "    </tr>\n",
       "    <tr>\n",
       "      <th>18</th>\n",
       "      <td>neighbourhood_cleansed_Fenway</td>\n",
       "      <td>65.736596</td>\n",
       "      <td>65.736596</td>\n",
       "    </tr>\n",
       "    <tr>\n",
       "      <th>44</th>\n",
       "      <td>property_type_Villa</td>\n",
       "      <td>59.251515</td>\n",
       "      <td>59.251515</td>\n",
       "    </tr>\n",
       "    <tr>\n",
       "      <th>45</th>\n",
       "      <td>room_type_Private room</td>\n",
       "      <td>-53.233630</td>\n",
       "      <td>53.233630</td>\n",
       "    </tr>\n",
       "    <tr>\n",
       "      <th>13</th>\n",
       "      <td>neighbourhood_cleansed_Charlestown</td>\n",
       "      <td>50.785380</td>\n",
       "      <td>50.785380</td>\n",
       "    </tr>\n",
       "    <tr>\n",
       "      <th>2</th>\n",
       "      <td>bedrooms</td>\n",
       "      <td>43.560559</td>\n",
       "      <td>43.560559</td>\n",
       "    </tr>\n",
       "    <tr>\n",
       "      <th>37</th>\n",
       "      <td>property_type_Dorm</td>\n",
       "      <td>-42.728868</td>\n",
       "      <td>42.728868</td>\n",
       "    </tr>\n",
       "    <tr>\n",
       "      <th>25</th>\n",
       "      <td>neighbourhood_cleansed_North End</td>\n",
       "      <td>42.627377</td>\n",
       "      <td>42.627377</td>\n",
       "    </tr>\n",
       "    <tr>\n",
       "      <th>31</th>\n",
       "      <td>neighbourhood_cleansed_West End</td>\n",
       "      <td>36.736479</td>\n",
       "      <td>36.736479</td>\n",
       "    </tr>\n",
       "    <tr>\n",
       "      <th>28</th>\n",
       "      <td>neighbourhood_cleansed_South Boston</td>\n",
       "      <td>35.362655</td>\n",
       "      <td>35.362655</td>\n",
       "    </tr>\n",
       "    <tr>\n",
       "      <th>38</th>\n",
       "      <td>property_type_Entire Floor</td>\n",
       "      <td>-33.870279</td>\n",
       "      <td>33.870279</td>\n",
       "    </tr>\n",
       "    <tr>\n",
       "      <th>43</th>\n",
       "      <td>property_type_Townhouse</td>\n",
       "      <td>32.787994</td>\n",
       "      <td>32.787994</td>\n",
       "    </tr>\n",
       "  </tbody>\n",
       "</table>\n",
       "</div>"
      ],
      "text/plain": [
       "                                           est_int       coefs   abs_coefs\n",
       "10              neighbourhood_cleansed_Bay Village  107.967419  107.967419\n",
       "21         neighbourhood_cleansed_Leather District  105.445176  105.445176\n",
       "29  neighbourhood_cleansed_South Boston Waterfront  102.844649  102.844649\n",
       "9                  neighbourhood_cleansed_Back Bay   98.050798   98.050798\n",
       "16                 neighbourhood_cleansed_Downtown   84.805251   84.805251\n",
       "11              neighbourhood_cleansed_Beacon Hill   81.684115   81.684115\n",
       "14                neighbourhood_cleansed_Chinatown   72.548987   72.548987\n",
       "30                neighbourhood_cleansed_South End   70.386963   70.386963\n",
       "46                           room_type_Shared room  -67.437883   67.437883\n",
       "18                   neighbourhood_cleansed_Fenway   65.736596   65.736596\n",
       "44                             property_type_Villa   59.251515   59.251515\n",
       "45                          room_type_Private room  -53.233630   53.233630\n",
       "13              neighbourhood_cleansed_Charlestown   50.785380   50.785380\n",
       "2                                         bedrooms   43.560559   43.560559\n",
       "37                              property_type_Dorm  -42.728868   42.728868\n",
       "25                neighbourhood_cleansed_North End   42.627377   42.627377\n",
       "31                 neighbourhood_cleansed_West End   36.736479   36.736479\n",
       "28             neighbourhood_cleansed_South Boston   35.362655   35.362655\n",
       "38                      property_type_Entire Floor  -33.870279   33.870279\n",
       "43                         property_type_Townhouse   32.787994   32.787994"
      ]
     },
     "execution_count": 17,
     "metadata": {},
     "output_type": "execute_result"
    }
   ],
   "source": [
    "def coef_weights(coefficients, X_train):\n",
    "    '''\n",
    "    INPUT:\n",
    "    coefficients - the coefficients of the linear model \n",
    "    X_train - the training data, so the column names can be used\n",
    "    \n",
    "    OUTPUT:\n",
    "    coefs_df - a dataframe holding the coefficient, estimate, and abs(estimate)\n",
    "    \n",
    "    Provides a dataframe that can be used to understand the most influential coefficients\n",
    "    in a linear model by providing the coefficient estimates along with the name of the \n",
    "    variable attached to the coefficient.\n",
    "    '''\n",
    "    coefs_df = pd.DataFrame()\n",
    "    coefs_df['est_int'] = X_train.columns\n",
    "    coefs_df['coefs'] = lm_model.coef_\n",
    "    coefs_df['abs_coefs'] = np.abs(lm_model.coef_)\n",
    "    coefs_df = coefs_df.sort_values('abs_coefs', ascending=False)\n",
    "    return coefs_df\n",
    "\n",
    "#Use the function\n",
    "coef_df = coef_weights(lm_model.coef_, X_train)\n",
    "\n",
    "#A quick look at the top results\n",
    "coef_df.head(20)"
   ]
  },
  {
   "cell_type": "markdown",
   "metadata": {},
   "source": [
    "According to the data above, we can get following conclusion:\n",
    "- neighbourhood_cleansed, room_type and property_type are top indicators for listing price\n",
    "- bedrooms seems to be a better indicator than beds"
   ]
  },
  {
   "cell_type": "code",
   "execution_count": null,
   "metadata": {},
   "outputs": [],
   "source": []
  }
 ],
 "metadata": {
  "kernelspec": {
   "display_name": "Python 3",
   "language": "python",
   "name": "python3"
  },
  "language_info": {
   "codemirror_mode": {
    "name": "ipython",
    "version": 3
   },
   "file_extension": ".py",
   "mimetype": "text/x-python",
   "name": "python",
   "nbconvert_exporter": "python",
   "pygments_lexer": "ipython3",
   "version": "3.7.6"
  }
 },
 "nbformat": 4,
 "nbformat_minor": 4
}
